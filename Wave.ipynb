{
 "cells": [
  {
   "cell_type": "code",
   "execution_count": null,
   "id": "cd782782",
   "metadata": {},
   "outputs": [],
   "source": [
    "import numpy as np\n",
    "import matplotlib.pyplot as plt\n",
    "from matplotlib import animation, rc\n",
    "from matplotlib.animation import FuncAnimation\n",
    "from IPython.display import HTML\n",
    "\n",
    "L=1 #Length \n",
    "v=1\n",
    "phi = np.array([0.0,np.pi/3]) \n",
    "n = np.array([1,2])\n",
    "C = np.array ([0.4,0.6])\n",
    "\n",
    "C = C/np.linalg.norm(C)\n",
    "\n",
    "def init():\n",
    "    line.set_data ([], [])\n",
    "    return (line,)\n",
    "\n",
    "def wave(n,L,v,phi,t,x):\n",
    "    y = np.cos(n*np.pi/L * v * 0.1 * t +phi) * np.sin(n * np.pi/L * x) \n",
    "    return (y)\n",
    "\n",
    "def animate(t,C,n,L,v,phi):\n",
    "    x = np.linspace(0, 1, 1000) \n",
    "    y=0\n",
    "    for i in range(len(C)):\n",
    "        y += C[i]*wave(n[i],L,v,phi[i],t,x) \n",
    "    line.set_data(x, y)\n",
    "    return (line,)\n",
    "    \n",
    "fig,ax = plt.subplots() \n",
    "ax.set_xlim(( 0, 1)) \n",
    "ax.set_ylim((-1.5, 1.5))\n",
    "line, = ax.plot ([], [], lw=2)\n",
    "anim = animation.FuncAnimation(fig, animate, init_func=init, fargs=(C,n,L,v,phi),\\\n",
    "    frames=100, interval=100, blit=True) \n",
    "rc('animation', html='jshtml') \n",
    "HTML(anim.to_jshtml())\n"
   ]
  }
 ],
 "metadata": {
  "kernelspec": {
   "display_name": "Python 3 (ipykernel)",
   "language": "python",
   "name": "python3"
  },
  "language_info": {
   "codemirror_mode": {
    "name": "ipython",
    "version": 3
   },
   "file_extension": ".py",
   "mimetype": "text/x-python",
   "name": "python",
   "nbconvert_exporter": "python",
   "pygments_lexer": "ipython3",
   "version": "3.9.7"
  }
 },
 "nbformat": 4,
 "nbformat_minor": 5
}
